{
 "cells": [
  {
   "cell_type": "code",
   "execution_count": 1,
   "id": "initial_id",
   "metadata": {
    "ExecuteTime": {
     "end_time": "2024-05-04T04:55:21.824409Z",
     "start_time": "2024-05-04T04:55:21.196075Z"
    },
    "collapsed": true,
    "jupyter": {
     "outputs_hidden": true
    }
   },
   "outputs": [],
   "source": [
    "from typing import Sequence\n",
    "import h5py\n",
    "import matplotlib.pyplot as plt\n",
    "import numpy as np"
   ]
  },
  {
   "cell_type": "code",
   "execution_count": 2,
   "id": "6ac789285ad651d2",
   "metadata": {
    "ExecuteTime": {
     "end_time": "2024-05-01T17:11:31.117598Z",
     "start_time": "2024-05-01T17:11:31.104678Z"
    },
    "collapsed": false,
    "jupyter": {
     "outputs_hidden": false
    }
   },
   "outputs": [],
   "source": [
    "def read_datasets() -> Sequence[np.ndarray]:\n",
    "    \"\"\"\n",
    "    Reads the datasets needed for the exercise.\n",
    "    \"\"\"\n",
    "    with h5py.File(\"data/train_catvnoncat.h5\") as file:\n",
    "        x_train: np.ndarray = file[\"train_set_x\"][:]\n",
    "        y_train: np.ndarray = file[\"train_set_y\"][:]\n",
    "        classes: np.ndarray = file[\"list_classes\"][:]\n",
    "    with h5py.File(\"data/test_catvnoncat.h5\") as file:\n",
    "        x_test: np.ndarray = file[\"test_set_x\"][:]\n",
    "        y_test: np.ndarray = file[\"test_set_y\"][:]\n",
    "    return x_train, y_train, x_test, y_test, classes"
   ]
  },
  {
   "cell_type": "code",
   "execution_count": 3,
   "id": "5aa3d3fb7de4031a",
   "metadata": {
    "ExecuteTime": {
     "end_time": "2024-05-01T17:11:31.133576Z",
     "start_time": "2024-05-01T17:11:31.118689Z"
    },
    "collapsed": false,
    "jupyter": {
     "outputs_hidden": false
    }
   },
   "outputs": [
    {
     "name": "stdout",
     "output_type": "stream",
     "text": [
      "(209, 64, 64, 3)\n",
      "(209,)\n",
      "(50, 64, 64, 3)\n",
      "(50,)\n"
     ]
    }
   ],
   "source": [
    "# Loading the training and test sets\n",
    "x_train, y_train, x_test, y_test, classes = read_datasets()\n",
    "print(x_train.shape)\n",
    "print(y_train.shape)\n",
    "print(x_test.shape)\n",
    "print(y_test.shape)"
   ]
  },
  {
   "cell_type": "code",
   "execution_count": 4,
   "id": "38ca70d4d18b1c25",
   "metadata": {
    "ExecuteTime": {
     "end_time": "2024-05-01T17:11:31.149410Z",
     "start_time": "2024-05-01T17:11:31.134676Z"
    },
    "collapsed": false,
    "jupyter": {
     "outputs_hidden": false
    }
   },
   "outputs": [
    {
     "name": "stdout",
     "output_type": "stream",
     "text": [
      "(209, 12288)\n",
      "(209, 1)\n",
      "(50, 12288)\n",
      "(50, 1)\n"
     ]
    }
   ],
   "source": [
    "# Reshaping the x's to be adequate for the classifier\n",
    "x_train = x_train.reshape(x_train.shape[0], -1)\n",
    "y_train = y_train.reshape(-1, 1)\n",
    "x_test = x_test.reshape(x_test.shape[0], -1)\n",
    "y_test = y_test.reshape(-1, 1)\n",
    "print(x_train.shape)\n",
    "print(y_train.shape)\n",
    "print(x_test.shape)\n",
    "print(y_test.shape)"
   ]
  },
  {
   "cell_type": "code",
   "execution_count": 5,
   "id": "1ee2ab9b0cad6c74",
   "metadata": {
    "ExecuteTime": {
     "end_time": "2024-05-01T17:11:31.180976Z",
     "start_time": "2024-05-01T17:11:31.151484Z"
    },
    "collapsed": false,
    "jupyter": {
     "outputs_hidden": false
    }
   },
   "outputs": [],
   "source": [
    "# Normalizing the features\n",
    "x_train = x_train / 255\n",
    "x_test = x_test / 255"
   ]
  },
  {
   "cell_type": "code",
   "execution_count": 6,
   "id": "3ce4806bd345a0f3",
   "metadata": {
    "ExecuteTime": {
     "end_time": "2024-05-01T17:11:31.195881Z",
     "start_time": "2024-05-01T17:11:31.182081Z"
    },
    "collapsed": false,
    "jupyter": {
     "outputs_hidden": false
    }
   },
   "outputs": [],
   "source": [
    "# Defining the functions required for logistic regression\n",
    "\n",
    "def cost(y_true: np.ndarray, y_pred: np.ndarray) -> float:\n",
    "    \"\"\"\n",
    "    Logistic cost function.\n",
    "    \"\"\"\n",
    "    losses = y_true * np.log(y_pred) + (1 - y_true) * np.log(1 - y_pred)\n",
    "    return -np.mean(losses)\n",
    "\n",
    "\n",
    "class LogisticRegression:\n",
    "    \"\"\"\n",
    "    Logistic regression implementation.\n",
    "    \"\"\"\n",
    "    \n",
    "    def __init__(self, threshold: float = 0.5):\n",
    "        \"\"\"\n",
    "        :param threshold: Value to decide between predicting class 0 or 1. \n",
    "        \"\"\"\n",
    "        self._threshold: float = threshold\n",
    "        self._w: np.ndarray = np.zeros(0)\n",
    "        self._b: float = 0.0\n",
    "\n",
    "    def fit(\n",
    "        self,\n",
    "        x: np.ndarray,\n",
    "        y: np.ndarray,\n",
    "        epochs: int = 100,\n",
    "        learning_rate: float = 0.01,\n",
    "    ) -> np.ndarray:\n",
    "        \"\"\"\n",
    "        :param epochs: Number of training iterations \n",
    "        :param learning_rate: Gradient descent learning rate\n",
    "        \"\"\"\n",
    "        m, n = x.shape[:2]\n",
    "        self._w = np.zeros((n, 1))\n",
    "        self._b = 0.0\n",
    "        \n",
    "        costs: np.ndarray = np.zeros(epochs, dtype=np.float64)\n",
    "        for i in range(epochs):\n",
    "            y_pred: np.ndarray = self.prob(x)\n",
    "            dj_dy: np.ndarray = y_pred - y\n",
    "            dj_dw: np.ndarray = np.dot(x.T, dj_dy) / m\n",
    "            dj_db: np.ndarray = np.sum(dj_dy) / m\n",
    "            \n",
    "            self._w -= learning_rate * dj_dw\n",
    "            self._b -= learning_rate * dj_db\n",
    "            \n",
    "            costs[i] = cost(y, y_pred)\n",
    "        return costs\n",
    "\n",
    "    def predict(self, x: np.ndarray) -> np.ndarray:\n",
    "        \"\"\"\n",
    "        Computes target classes for each example in `x`.\n",
    "        \"\"\"\n",
    "        return (self.prob(x) >= self._threshold).astype(int)\n",
    "\n",
    "    def prob(self, x: np.ndarray) -> np.ndarray:\n",
    "        \"\"\"\n",
    "        Computes the probability of each example in `x` to be of class 1.\n",
    "        \"\"\"\n",
    "        return self._sigmoid(np.dot(x, self._w) + self._b)\n",
    "\n",
    "    @staticmethod\n",
    "    def _sigmoid(z: np.ndarray) -> np.ndarray:\n",
    "        return 1.0 / (1.0 + np.exp(-z))"
   ]
  },
  {
   "cell_type": "code",
   "execution_count": 11,
   "id": "1ede5750f6c0914f",
   "metadata": {
    "ExecuteTime": {
     "end_time": "2024-05-01T17:11:45.794592Z",
     "start_time": "2024-05-01T17:11:42.143907Z"
    },
    "collapsed": false,
    "jupyter": {
     "outputs_hidden": false
    }
   },
   "outputs": [],
   "source": [
    "# Defining and training the classifier\n",
    "epochs: int = 5000\n",
    "learning_rate: float = 0.005\n",
    "classifier: LogisticRegression = LogisticRegression()\n",
    "costs: np.ndarray = classifier.fit(x_train, y_train, epochs, learning_rate)"
   ]
  },
  {
   "cell_type": "code",
   "execution_count": 12,
   "id": "396a62548ecf24",
   "metadata": {
    "ExecuteTime": {
     "end_time": "2024-05-01T17:11:46.840979Z",
     "start_time": "2024-05-01T17:11:46.831467Z"
    },
    "collapsed": false,
    "jupyter": {
     "outputs_hidden": false
    }
   },
   "outputs": [
    {
     "name": "stdout",
     "output_type": "stream",
     "text": [
      "100.0 %\n"
     ]
    }
   ],
   "source": [
    "# Evaluating against the train set\n",
    "y_pred: np.ndarray = classifier.predict(x_train)\n",
    "print(np.mean(y_train == y_pred) * 100, \"%\")"
   ]
  },
  {
   "cell_type": "code",
   "execution_count": 13,
   "id": "682910431c370c0d",
   "metadata": {
    "ExecuteTime": {
     "end_time": "2024-05-01T17:11:47.621766Z",
     "start_time": "2024-05-01T17:11:47.615238Z"
    },
    "collapsed": false,
    "jupyter": {
     "outputs_hidden": false
    }
   },
   "outputs": [
    {
     "name": "stdout",
     "output_type": "stream",
     "text": [
      "70.0 %\n"
     ]
    }
   ],
   "source": [
    "# Evaluating against the test set\n",
    "y_pred: np.ndarray = classifier.predict(x_test)\n",
    "print(np.mean(y_test == y_pred) * 100, \"%\")"
   ]
  },
  {
   "cell_type": "code",
   "execution_count": 14,
   "id": "b3886fb54583321b",
   "metadata": {
    "ExecuteTime": {
     "end_time": "2024-05-01T17:11:48.447202Z",
     "start_time": "2024-05-01T17:11:48.329279Z"
    },
    "collapsed": false,
    "jupyter": {
     "outputs_hidden": false
    }
   },
   "outputs": [
    {
     "data": {
      "image/png": "[encoded data removed]",
      "text/plain": [
       "<Figure size 640x480 with 1 Axes>"
      ]
     },
     "metadata": {},
     "output_type": "display_data"
    }
   ],
   "source": [
    "# Displaying the cost per epoch\n",
    "plt.plot(range(epochs), costs)\n",
    "plt.show()"
   ]
  }
 ],
 "metadata": {
  "kernelspec": {
   "display_name": "Python 3 (ipykernel)",
   "language": "python",
   "name": "python3"
  },
  "language_info": {
   "codemirror_mode": {
    "name": "ipython",
    "version": 3
   },
   "file_extension": ".py",
   "mimetype": "text/x-python",
   "name": "python",
   "nbconvert_exporter": "python",
   "pygments_lexer": "ipython3",
   "version": "3.10.11"
  }
 },
 "nbformat": 4,
 "nbformat_minor": 5
}
